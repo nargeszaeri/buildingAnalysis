{
  "nbformat": 4,
  "nbformat_minor": 0,
  "metadata": {
    "colab": {
      "name": "Example Time Series in Pandas.ipynb",
      "provenance": [],
      "include_colab_link": true
    },
    "kernelspec": {
      "name": "python3",
      "display_name": "Python 3"
    }
  },
  "cells": [
    {
      "cell_type": "markdown",
      "metadata": {
        "id": "view-in-github",
        "colab_type": "text"
      },
      "source": [
        "<a href=\"https://colab.research.google.com/github/nargeszaeri/buildingAnalysis/blob/master/Example_Time_Series_in_Pandas.ipynb\" target=\"_parent\"><img src=\"https://colab.research.google.com/assets/colab-badge.svg\" alt=\"Open In Colab\"/></a>"
      ]
    },
    {
      "cell_type": "code",
      "metadata": {
        "id": "T2tRLsEanW9e",
        "colab_type": "code",
        "outputId": "c3ffd025-e35a-4b6e-d4f7-a21931d0aced",
        "colab": {
          "base_uri": "https://localhost:8080/",
          "height": 51
        }
      },
      "source": [
        "import pandas as pd\n",
        "import matplotlib.pyplot as plt\n",
        "import seaborn as sns\n",
        "from sklearn.preprocessing import StandardScaler\n",
        "from sklearn import cluster, datasets, mixture\n",
        "import numpy as np"
      ],
      "execution_count": 0,
      "outputs": [
        {
          "output_type": "stream",
          "text": [
            "/usr/local/lib/python3.6/dist-packages/statsmodels/tools/_testing.py:19: FutureWarning: pandas.util.testing is deprecated. Use the functions in the public API at pandas.testing instead.\n",
            "  import pandas.util.testing as tm\n"
          ],
          "name": "stderr"
        }
      ]
    },
    {
      "cell_type": "code",
      "metadata": {
        "id": "niQakeIgnfLL",
        "colab_type": "code",
        "colab": {}
      },
      "source": [
        "# this is a subsection of the Kaggle ASHRAE competition that was held late last year\n",
        "# which contains 3-year hourly energy data of over 1000 buildings in 15 locations across the globe\n",
        "# link to competition: https://www.kaggle.com/c/ashrae-energy-prediction\n",
        "\n",
        "df = pd.read_csv('https://raw.githubusercontent.com/ZixiaoShi/BuildingDataAnalytics/master/data/Kaggle_Site_7/building_energy.csv')"
      ],
      "execution_count": 0,
      "outputs": []
    },
    {
      "cell_type": "code",
      "metadata": {
        "id": "xn_SU47Lng8G",
        "colab_type": "code",
        "outputId": "aaae7e5a-bdc7-452e-9515-fecf13e90441",
        "colab": {
          "base_uri": "https://localhost:8080/",
          "height": 204
        }
      },
      "source": [
        "# this dataset is composed of many building meters and their meter readings\n",
        "df.head()"
      ],
      "execution_count": 0,
      "outputs": [
        {
          "output_type": "execute_result",
          "data": {
            "text/html": [
              "<div>\n",
              "<style scoped>\n",
              "    .dataframe tbody tr th:only-of-type {\n",
              "        vertical-align: middle;\n",
              "    }\n",
              "\n",
              "    .dataframe tbody tr th {\n",
              "        vertical-align: top;\n",
              "    }\n",
              "\n",
              "    .dataframe thead th {\n",
              "        text-align: right;\n",
              "    }\n",
              "</style>\n",
              "<table border=\"1\" class=\"dataframe\">\n",
              "  <thead>\n",
              "    <tr style=\"text-align: right;\">\n",
              "      <th></th>\n",
              "      <th>Unnamed: 0</th>\n",
              "      <th>building_id</th>\n",
              "      <th>meter</th>\n",
              "      <th>timestamp</th>\n",
              "      <th>meter_reading</th>\n",
              "    </tr>\n",
              "  </thead>\n",
              "  <tbody>\n",
              "    <tr>\n",
              "      <th>0</th>\n",
              "      <td>959</td>\n",
              "      <td>789</td>\n",
              "      <td>1</td>\n",
              "      <td>2016-01-01 00:00:00</td>\n",
              "      <td>61.80</td>\n",
              "    </tr>\n",
              "    <tr>\n",
              "      <th>1</th>\n",
              "      <td>960</td>\n",
              "      <td>789</td>\n",
              "      <td>2</td>\n",
              "      <td>2016-01-01 00:00:00</td>\n",
              "      <td>454.63</td>\n",
              "    </tr>\n",
              "    <tr>\n",
              "      <th>2</th>\n",
              "      <td>961</td>\n",
              "      <td>790</td>\n",
              "      <td>1</td>\n",
              "      <td>2016-01-01 00:00:00</td>\n",
              "      <td>109.50</td>\n",
              "    </tr>\n",
              "    <tr>\n",
              "      <th>3</th>\n",
              "      <td>962</td>\n",
              "      <td>790</td>\n",
              "      <td>2</td>\n",
              "      <td>2016-01-01 00:00:00</td>\n",
              "      <td>803.57</td>\n",
              "    </tr>\n",
              "    <tr>\n",
              "      <th>4</th>\n",
              "      <td>963</td>\n",
              "      <td>791</td>\n",
              "      <td>0</td>\n",
              "      <td>2016-01-01 00:00:00</td>\n",
              "      <td>919.30</td>\n",
              "    </tr>\n",
              "  </tbody>\n",
              "</table>\n",
              "</div>"
            ],
            "text/plain": [
              "   Unnamed: 0  building_id  meter            timestamp  meter_reading\n",
              "0         959          789      1  2016-01-01 00:00:00          61.80\n",
              "1         960          789      2  2016-01-01 00:00:00         454.63\n",
              "2         961          790      1  2016-01-01 00:00:00         109.50\n",
              "3         962          790      2  2016-01-01 00:00:00         803.57\n",
              "4         963          791      0  2016-01-01 00:00:00         919.30"
            ]
          },
          "metadata": {
            "tags": []
          },
          "execution_count": 5
        }
      ]
    },
    {
      "cell_type": "code",
      "metadata": {
        "id": "X0EK-rqHySPC",
        "colab_type": "code",
        "outputId": "3a1ae8cf-fe9a-4535-a248-451fb6868666",
        "colab": {
          "base_uri": "https://localhost:8080/",
          "height": 765
        }
      },
      "source": [
        "# let us examine how many buildings we have and how many meters in each building\n",
        "# we can group by building_id and each of their meter and see how many non-empty readings each meter\n",
        "# pandas allows us to do this very easily\n",
        "# we are grouping the dataframe by two things, building_id first, and then by meter\n",
        "df.groupby(['building_id', 'meter']).meter_reading.count()"
      ],
      "execution_count": 0,
      "outputs": [
        {
          "output_type": "execute_result",
          "data": {
            "text/plain": [
              "building_id  meter\n",
              "789          1        8590\n",
              "             2        8590\n",
              "790          1        8590\n",
              "             2        8590\n",
              "791          0        8784\n",
              "             1        8595\n",
              "             2        8595\n",
              "792          1        8596\n",
              "             2        8596\n",
              "793          0        8782\n",
              "             1        8779\n",
              "             3        8782\n",
              "794          0        8782\n",
              "             1        8779\n",
              "             3        8782\n",
              "795          0        8780\n",
              "             1        8779\n",
              "             3        8780\n",
              "796          0        8781\n",
              "             1        8781\n",
              "             2        8781\n",
              "797          0        8781\n",
              "             1        8781\n",
              "             2        8781\n",
              "798          0        8781\n",
              "             1        8781\n",
              "             2        8781\n",
              "799          0        8781\n",
              "             1        8781\n",
              "             2        8759\n",
              "800          0        8781\n",
              "             1        8781\n",
              "             2        8781\n",
              "801          0        8781\n",
              "             1        8781\n",
              "             2        8781\n",
              "802          0        8781\n",
              "             1        8781\n",
              "             2        8781\n",
              "803          0        8189\n",
              "             1        8781\n",
              "             2        8781\n",
              "Name: meter_reading, dtype: int64"
            ]
          },
          "metadata": {
            "tags": []
          },
          "execution_count": 15
        }
      ]
    },
    {
      "cell_type": "markdown",
      "metadata": {
        "id": "dJJ5gWo2zkzg",
        "colab_type": "text"
      },
      "source": [
        "Most meters have at least 8500 hourly readings, which translate to one year of data. The data quality overall is quite good."
      ]
    },
    {
      "cell_type": "code",
      "metadata": {
        "id": "SbfdmBrBpJaS",
        "colab_type": "code",
        "colab": {}
      },
      "source": [
        "# let us choose one random building to perform some analysis\n",
        "# unfortunately we don't know what kind of meter it is, but we could use visualization to differentiate them\n",
        "bldg_df = df[df.building_id == 791]"
      ],
      "execution_count": 0,
      "outputs": []
    },
    {
      "cell_type": "code",
      "metadata": {
        "id": "mPbUUgkZ0Y4x",
        "colab_type": "code",
        "outputId": "796d76bf-43cf-4b54-884d-f28b61aa8c4d",
        "colab": {
          "base_uri": "https://localhost:8080/",
          "height": 386
        }
      },
      "source": [
        "sns.relplot(x='timestamp', y='meter_reading', hue='meter', data=bldg_df, kind='line')"
      ],
      "execution_count": 0,
      "outputs": [
        {
          "output_type": "execute_result",
          "data": {
            "text/plain": [
              "<seaborn.axisgrid.FacetGrid at 0x7f9dbf3719e8>"
            ]
          },
          "metadata": {
            "tags": []
          },
          "execution_count": 26
        },
        {
          "output_type": "display_data",
          "data": {
            "image/png": "[encoded data removed]",
            "text/plain": [
              "<Figure size 425.875x360 with 1 Axes>"
            ]
          },
          "metadata": {
            "tags": [],
            "needs_background": "light"
          }
        }
      ]
    },
    {
      "cell_type": "markdown",
      "metadata": {
        "id": "vS5qHCPs3BQB",
        "colab_type": "text"
      },
      "source": [
        "This plot took a while due to some inefficient sorting seaborn does. Still, you should be able to easily identify which meter belongs to heating, cooling or electrcity, right?\n"
      ]
    },
    {
      "cell_type": "code",
      "metadata": {
        "id": "aID93pDx06ax",
        "colab_type": "code",
        "colab": {}
      },
      "source": [
        "# ok let us extract one single meter from this data and do some clustering analysis\n",
        "# from the previous analysis we know which one is the electricity meter\n",
        "bldg_id = 791\n",
        "meter_id = 0\n",
        "cols_to_use = ['meter_reading', 'timestamp']\n",
        "mask = (df.building_id == bldg_id) & (df.meter == meter_id)\n",
        "meter_df = df.loc[mask, cols_to_use]"
      ],
      "execution_count": 0,
      "outputs": []
    },
    {
      "cell_type": "code",
      "metadata": {
        "id": "mnPMjiww37wp",
        "colab_type": "code",
        "colab": {}
      },
      "source": [
        "# and let us use timestamp as the dataframe index\n",
        "# to do some timeseries magic by pandas\n",
        "# first convert the timestamp column to actual timestamp data type\n",
        "meter_df.timestamp = pd.to_datetime(meter_df.timestamp)\n",
        "meter_df = meter_df.set_index('timestamp')"
      ],
      "execution_count": 0,
      "outputs": []
    },
    {
      "cell_type": "code",
      "metadata": {
        "id": "lq-oZYay4CGC",
        "colab_type": "code",
        "outputId": "f79b47d0-eb8a-4b0f-8b0f-781c9b81651a",
        "colab": {
          "base_uri": "https://localhost:8080/",
          "height": 235
        }
      },
      "source": [
        "# let's take a look\n",
        "meter_df.head()"
      ],
      "execution_count": 0,
      "outputs": [
        {
          "output_type": "execute_result",
          "data": {
            "text/html": [
              "<div>\n",
              "<style scoped>\n",
              "    .dataframe tbody tr th:only-of-type {\n",
              "        vertical-align: middle;\n",
              "    }\n",
              "\n",
              "    .dataframe tbody tr th {\n",
              "        vertical-align: top;\n",
              "    }\n",
              "\n",
              "    .dataframe thead th {\n",
              "        text-align: right;\n",
              "    }\n",
              "</style>\n",
              "<table border=\"1\" class=\"dataframe\">\n",
              "  <thead>\n",
              "    <tr style=\"text-align: right;\">\n",
              "      <th></th>\n",
              "      <th>meter_reading</th>\n",
              "    </tr>\n",
              "    <tr>\n",
              "      <th>timestamp</th>\n",
              "      <th></th>\n",
              "    </tr>\n",
              "  </thead>\n",
              "  <tbody>\n",
              "    <tr>\n",
              "      <th>2016-01-01 00:00:00</th>\n",
              "      <td>919.30</td>\n",
              "    </tr>\n",
              "    <tr>\n",
              "      <th>2016-01-01 01:00:00</th>\n",
              "      <td>924.48</td>\n",
              "    </tr>\n",
              "    <tr>\n",
              "      <th>2016-01-01 02:00:00</th>\n",
              "      <td>934.85</td>\n",
              "    </tr>\n",
              "    <tr>\n",
              "      <th>2016-01-01 03:00:00</th>\n",
              "      <td>940.03</td>\n",
              "    </tr>\n",
              "    <tr>\n",
              "      <th>2016-01-01 04:00:00</th>\n",
              "      <td>965.95</td>\n",
              "    </tr>\n",
              "  </tbody>\n",
              "</table>\n",
              "</div>"
            ],
            "text/plain": [
              "                     meter_reading\n",
              "timestamp                         \n",
              "2016-01-01 00:00:00         919.30\n",
              "2016-01-01 01:00:00         924.48\n",
              "2016-01-01 02:00:00         934.85\n",
              "2016-01-01 03:00:00         940.03\n",
              "2016-01-01 04:00:00         965.95"
            ]
          },
          "metadata": {
            "tags": []
          },
          "execution_count": 33
        }
      ]
    },
    {
      "cell_type": "code",
      "metadata": {
        "id": "-NXgNJPo4lCg",
        "colab_type": "code",
        "colab": {}
      },
      "source": [
        "# now time for some pandas timeseries magic\n",
        "# let's see exaclt how many missing data we have in this time series\n",
        "# we can do this by first set time series frequency to one hour\n",
        "meter_df = meter_df.asfreq('1H')\n",
        "# after this process, any missing timestamps are added to the timeseries\n",
        "# and pandas will understand this timeseries is expected at 1-hr intervals"
      ],
      "execution_count": 0,
      "outputs": []
    },
    {
      "cell_type": "code",
      "metadata": {
        "id": "E28dWxN08O13",
        "colab_type": "code",
        "outputId": "0cdb72a6-6f77-4ff9-ba8d-31e24ad8b368",
        "colab": {
          "base_uri": "https://localhost:8080/",
          "height": 221
        }
      },
      "source": [
        "# again we can examine our index's datatype to see more details\n",
        "# note this time the frequency says 'H' which means 1Hr\n",
        "meter_df.index"
      ],
      "execution_count": 0,
      "outputs": [
        {
          "output_type": "execute_result",
          "data": {
            "text/plain": [
              "DatetimeIndex(['2016-01-01 00:00:00', '2016-01-01 01:00:00',\n",
              "               '2016-01-01 02:00:00', '2016-01-01 03:00:00',\n",
              "               '2016-01-01 04:00:00', '2016-01-01 05:00:00',\n",
              "               '2016-01-01 06:00:00', '2016-01-01 07:00:00',\n",
              "               '2016-01-01 08:00:00', '2016-01-01 09:00:00',\n",
              "               ...\n",
              "               '2016-12-31 14:00:00', '2016-12-31 15:00:00',\n",
              "               '2016-12-31 16:00:00', '2016-12-31 17:00:00',\n",
              "               '2016-12-31 18:00:00', '2016-12-31 19:00:00',\n",
              "               '2016-12-31 20:00:00', '2016-12-31 21:00:00',\n",
              "               '2016-12-31 22:00:00', '2016-12-31 23:00:00'],\n",
              "              dtype='datetime64[ns]', name='timestamp', length=8784, freq='H')"
            ]
          },
          "metadata": {
            "tags": []
          },
          "execution_count": 50
        }
      ]
    },
    {
      "cell_type": "code",
      "metadata": {
        "id": "GhxiAcMA8n80",
        "colab_type": "code",
        "outputId": "a2e18463-7347-4122-a4a3-eca7d9d81614",
        "colab": {
          "base_uri": "https://localhost:8080/",
          "height": 235
        }
      },
      "source": [
        "# we can also use a different interval during resampling\n",
        "# such as 3 hours, but this will cause us to loose some data\n",
        "meter_df.asfreq('3H').head()"
      ],
      "execution_count": 0,
      "outputs": [
        {
          "output_type": "execute_result",
          "data": {
            "text/html": [
              "<div>\n",
              "<style scoped>\n",
              "    .dataframe tbody tr th:only-of-type {\n",
              "        vertical-align: middle;\n",
              "    }\n",
              "\n",
              "    .dataframe tbody tr th {\n",
              "        vertical-align: top;\n",
              "    }\n",
              "\n",
              "    .dataframe thead th {\n",
              "        text-align: right;\n",
              "    }\n",
              "</style>\n",
              "<table border=\"1\" class=\"dataframe\">\n",
              "  <thead>\n",
              "    <tr style=\"text-align: right;\">\n",
              "      <th></th>\n",
              "      <th>meter_reading</th>\n",
              "    </tr>\n",
              "    <tr>\n",
              "      <th>timestamp</th>\n",
              "      <th></th>\n",
              "    </tr>\n",
              "  </thead>\n",
              "  <tbody>\n",
              "    <tr>\n",
              "      <th>2016-01-01 00:00:00</th>\n",
              "      <td>919.30</td>\n",
              "    </tr>\n",
              "    <tr>\n",
              "      <th>2016-01-01 03:00:00</th>\n",
              "      <td>940.03</td>\n",
              "    </tr>\n",
              "    <tr>\n",
              "      <th>2016-01-01 06:00:00</th>\n",
              "      <td>972.86</td>\n",
              "    </tr>\n",
              "    <tr>\n",
              "      <th>2016-01-01 09:00:00</th>\n",
              "      <td>967.68</td>\n",
              "    </tr>\n",
              "    <tr>\n",
              "      <th>2016-01-01 12:00:00</th>\n",
              "      <td>952.13</td>\n",
              "    </tr>\n",
              "  </tbody>\n",
              "</table>\n",
              "</div>"
            ],
            "text/plain": [
              "                     meter_reading\n",
              "timestamp                         \n",
              "2016-01-01 00:00:00         919.30\n",
              "2016-01-01 03:00:00         940.03\n",
              "2016-01-01 06:00:00         972.86\n",
              "2016-01-01 09:00:00         967.68\n",
              "2016-01-01 12:00:00         952.13"
            ]
          },
          "metadata": {
            "tags": []
          },
          "execution_count": 51
        }
      ]
    },
    {
      "cell_type": "code",
      "metadata": {
        "id": "hp9h9k9A6v6p",
        "colab_type": "code",
        "outputId": "689517f6-c110-470e-a2bf-186ee61856df",
        "colab": {
          "base_uri": "https://localhost:8080/",
          "height": 34
        }
      },
      "source": [
        "# now double check if there is missing timestamps in this dataset\n",
        "gap_between_index = meter_df.index.shift() - meter_df.index\n",
        "# so we have calculated the time gap between each index entry\n",
        "# next by examining there is only one unique value in these gaps (1Hr difference)\n",
        "# we can ensure this time series has a constant interval\n",
        "gap_between_index.unique()"
      ],
      "execution_count": 0,
      "outputs": [
        {
          "output_type": "execute_result",
          "data": {
            "text/plain": [
              "TimedeltaIndex(['01:00:00'], dtype='timedelta64[ns]', name='timestamp', freq=None)"
            ]
          },
          "metadata": {
            "tags": []
          },
          "execution_count": 52
        }
      ]
    },
    {
      "cell_type": "code",
      "metadata": {
        "id": "uHq5gIuaAJpe",
        "colab_type": "code",
        "outputId": "34ff4639-c8c7-4905-a245-3a13a5e73f3a",
        "colab": {
          "base_uri": "https://localhost:8080/",
          "height": 34
        }
      },
      "source": [
        "# pandas can do some powerful filtering in time series\n",
        "# for example, getting average electricity consumption at 7am\n",
        "meter_df.loc[meter_df.index.hour == 7, 'meter_reading'].mean()"
      ],
      "execution_count": 0,
      "outputs": [
        {
          "output_type": "execute_result",
          "data": {
            "text/plain": [
              "1190.2049453551906"
            ]
          },
          "metadata": {
            "tags": []
          },
          "execution_count": 62
        }
      ]
    },
    {
      "cell_type": "code",
      "metadata": {
        "id": "rInYj3f0AQw_",
        "colab_type": "code",
        "outputId": "c4bb3520-4318-4784-d0b0-a5255c3b4f62",
        "colab": {
          "base_uri": "https://localhost:8080/",
          "height": 34
        }
      },
      "source": [
        "# pretty neat, eh?\n",
        "# we can do this further an look at average electricity consumption during Mondays between 9am to 5pm\n",
        "mask = (meter_df.index.weekday == 0) & (meter_df.index.hour >=9 ) & (meter_df.index.hour <= 17)\n",
        "meter_df.loc[mask, 'meter_reading'].mean()"
      ],
      "execution_count": 0,
      "outputs": [
        {
          "output_type": "execute_result",
          "data": {
            "text/plain": [
              "1306.6413888888885"
            ]
          },
          "metadata": {
            "tags": []
          },
          "execution_count": 63
        }
      ]
    },
    {
      "cell_type": "code",
      "metadata": {
        "id": "Lo2DcxuB_u2m",
        "colab_type": "code",
        "outputId": "93e0c9c1-a23d-45f5-bc01-1ab6cc127348",
        "colab": {
          "base_uri": "https://localhost:8080/",
          "height": 235
        }
      },
      "source": [
        "# for the sake of demonstration let us add three missing values to the dataset\n",
        "meter_df.meter_reading[:3] = np.nan\n",
        "# print the new data\n",
        "meter_df.head()"
      ],
      "execution_count": 0,
      "outputs": [
        {
          "output_type": "execute_result",
          "data": {
            "text/html": [
              "<div>\n",
              "<style scoped>\n",
              "    .dataframe tbody tr th:only-of-type {\n",
              "        vertical-align: middle;\n",
              "    }\n",
              "\n",
              "    .dataframe tbody tr th {\n",
              "        vertical-align: top;\n",
              "    }\n",
              "\n",
              "    .dataframe thead th {\n",
              "        text-align: right;\n",
              "    }\n",
              "</style>\n",
              "<table border=\"1\" class=\"dataframe\">\n",
              "  <thead>\n",
              "    <tr style=\"text-align: right;\">\n",
              "      <th></th>\n",
              "      <th>meter_reading</th>\n",
              "    </tr>\n",
              "    <tr>\n",
              "      <th>timestamp</th>\n",
              "      <th></th>\n",
              "    </tr>\n",
              "  </thead>\n",
              "  <tbody>\n",
              "    <tr>\n",
              "      <th>2016-01-01 00:00:00</th>\n",
              "      <td>NaN</td>\n",
              "    </tr>\n",
              "    <tr>\n",
              "      <th>2016-01-01 01:00:00</th>\n",
              "      <td>NaN</td>\n",
              "    </tr>\n",
              "    <tr>\n",
              "      <th>2016-01-01 02:00:00</th>\n",
              "      <td>NaN</td>\n",
              "    </tr>\n",
              "    <tr>\n",
              "      <th>2016-01-01 03:00:00</th>\n",
              "      <td>940.03</td>\n",
              "    </tr>\n",
              "    <tr>\n",
              "      <th>2016-01-01 04:00:00</th>\n",
              "      <td>965.95</td>\n",
              "    </tr>\n",
              "  </tbody>\n",
              "</table>\n",
              "</div>"
            ],
            "text/plain": [
              "                     meter_reading\n",
              "timestamp                         \n",
              "2016-01-01 00:00:00            NaN\n",
              "2016-01-01 01:00:00            NaN\n",
              "2016-01-01 02:00:00            NaN\n",
              "2016-01-01 03:00:00         940.03\n",
              "2016-01-01 04:00:00         965.95"
            ]
          },
          "metadata": {
            "tags": []
          },
          "execution_count": 65
        }
      ]
    },
    {
      "cell_type": "markdown",
      "metadata": {
        "id": "lTuBBMNGA4jv",
        "colab_type": "text"
      },
      "source": [
        "# **Note pandas offers a wide range of tools to deal with missing data, especially in timeseries, more details are here: https://pandas.pydata.org/pandas-docs/stable/user_guide/missing_data.html**\n"
      ]
    },
    {
      "cell_type": "code",
      "metadata": {
        "id": "JfEU8soO8_TZ",
        "colab_type": "code",
        "outputId": "d608c4b2-4034-422c-f40c-906961f500e5",
        "colab": {
          "base_uri": "https://localhost:8080/",
          "height": 235
        }
      },
      "source": [
        "# now let us aggregate the dataframe with missing data\n",
        "# to downsample and get daily total energy consumption is easy\n",
        "meter_df.resample('D').sum().head()"
      ],
      "execution_count": 0,
      "outputs": [
        {
          "output_type": "execute_result",
          "data": {
            "text/html": [
              "<div>\n",
              "<style scoped>\n",
              "    .dataframe tbody tr th:only-of-type {\n",
              "        vertical-align: middle;\n",
              "    }\n",
              "\n",
              "    .dataframe tbody tr th {\n",
              "        vertical-align: top;\n",
              "    }\n",
              "\n",
              "    .dataframe thead th {\n",
              "        text-align: right;\n",
              "    }\n",
              "</style>\n",
              "<table border=\"1\" class=\"dataframe\">\n",
              "  <thead>\n",
              "    <tr style=\"text-align: right;\">\n",
              "      <th></th>\n",
              "      <th>meter_reading</th>\n",
              "    </tr>\n",
              "    <tr>\n",
              "      <th>timestamp</th>\n",
              "      <th></th>\n",
              "    </tr>\n",
              "  </thead>\n",
              "  <tbody>\n",
              "    <tr>\n",
              "      <th>2016-01-01</th>\n",
              "      <td>20006.78</td>\n",
              "    </tr>\n",
              "    <tr>\n",
              "      <th>2016-01-02</th>\n",
              "      <td>22859.70</td>\n",
              "    </tr>\n",
              "    <tr>\n",
              "      <th>2016-01-03</th>\n",
              "      <td>22864.91</td>\n",
              "    </tr>\n",
              "    <tr>\n",
              "      <th>2016-01-04</th>\n",
              "      <td>29752.72</td>\n",
              "    </tr>\n",
              "    <tr>\n",
              "      <th>2016-01-05</th>\n",
              "      <td>30777.40</td>\n",
              "    </tr>\n",
              "  </tbody>\n",
              "</table>\n",
              "</div>"
            ],
            "text/plain": [
              "            meter_reading\n",
              "timestamp                \n",
              "2016-01-01       20006.78\n",
              "2016-01-02       22859.70\n",
              "2016-01-03       22864.91\n",
              "2016-01-04       29752.72\n",
              "2016-01-05       30777.40"
            ]
          },
          "metadata": {
            "tags": []
          },
          "execution_count": 66
        }
      ]
    },
    {
      "cell_type": "code",
      "metadata": {
        "id": "d_md02XaBYwL",
        "colab_type": "code",
        "colab": {}
      },
      "source": [
        "# notice anything unusual?"
      ],
      "execution_count": 0,
      "outputs": []
    },
    {
      "cell_type": "code",
      "metadata": {
        "id": "kV6O17O69L-z",
        "colab_type": "code",
        "outputId": "8c917ef6-8cbd-402e-93c1-3cd895ce7758",
        "colab": {
          "base_uri": "https://localhost:8080/",
          "height": 235
        }
      },
      "source": [
        "# keep in mind when you sum up in Pandas, missing data is treated as zero by default (skipna=True)\n",
        "# which could cause issues if one day has many hours of data missing\n",
        "# instead, there are several options to solve this\n",
        "# first option is to return a missing value when there is any hourly value missing downstream\n",
        "meter_df.resample('D').agg(pd.Series.sum, skipna=False).head()"
      ],
      "execution_count": 0,
      "outputs": [
        {
          "output_type": "execute_result",
          "data": {
            "text/html": [
              "<div>\n",
              "<style scoped>\n",
              "    .dataframe tbody tr th:only-of-type {\n",
              "        vertical-align: middle;\n",
              "    }\n",
              "\n",
              "    .dataframe tbody tr th {\n",
              "        vertical-align: top;\n",
              "    }\n",
              "\n",
              "    .dataframe thead th {\n",
              "        text-align: right;\n",
              "    }\n",
              "</style>\n",
              "<table border=\"1\" class=\"dataframe\">\n",
              "  <thead>\n",
              "    <tr style=\"text-align: right;\">\n",
              "      <th></th>\n",
              "      <th>meter_reading</th>\n",
              "    </tr>\n",
              "    <tr>\n",
              "      <th>timestamp</th>\n",
              "      <th></th>\n",
              "    </tr>\n",
              "  </thead>\n",
              "  <tbody>\n",
              "    <tr>\n",
              "      <th>2016-01-01</th>\n",
              "      <td>NaN</td>\n",
              "    </tr>\n",
              "    <tr>\n",
              "      <th>2016-01-02</th>\n",
              "      <td>22859.70</td>\n",
              "    </tr>\n",
              "    <tr>\n",
              "      <th>2016-01-03</th>\n",
              "      <td>22864.91</td>\n",
              "    </tr>\n",
              "    <tr>\n",
              "      <th>2016-01-04</th>\n",
              "      <td>29752.72</td>\n",
              "    </tr>\n",
              "    <tr>\n",
              "      <th>2016-01-05</th>\n",
              "      <td>30777.40</td>\n",
              "    </tr>\n",
              "  </tbody>\n",
              "</table>\n",
              "</div>"
            ],
            "text/plain": [
              "            meter_reading\n",
              "timestamp                \n",
              "2016-01-01            NaN\n",
              "2016-01-02       22859.70\n",
              "2016-01-03       22864.91\n",
              "2016-01-04       29752.72\n",
              "2016-01-05       30777.40"
            ]
          },
          "metadata": {
            "tags": []
          },
          "execution_count": 70
        }
      ]
    },
    {
      "cell_type": "code",
      "metadata": {
        "id": "VHznPitp-JfF",
        "colab_type": "code",
        "outputId": "e61745d7-da1f-4015-de85-33ed1fe1af4b",
        "colab": {
          "base_uri": "https://localhost:8080/",
          "height": 235
        }
      },
      "source": [
        "# or return missing when there are less than 21 valid values\n",
        "meter_df.resample('D').agg(pd.Series.sum, min_count=21).head()"
      ],
      "execution_count": 0,
      "outputs": [
        {
          "output_type": "execute_result",
          "data": {
            "text/html": [
              "<div>\n",
              "<style scoped>\n",
              "    .dataframe tbody tr th:only-of-type {\n",
              "        vertical-align: middle;\n",
              "    }\n",
              "\n",
              "    .dataframe tbody tr th {\n",
              "        vertical-align: top;\n",
              "    }\n",
              "\n",
              "    .dataframe thead th {\n",
              "        text-align: right;\n",
              "    }\n",
              "</style>\n",
              "<table border=\"1\" class=\"dataframe\">\n",
              "  <thead>\n",
              "    <tr style=\"text-align: right;\">\n",
              "      <th></th>\n",
              "      <th>meter_reading</th>\n",
              "    </tr>\n",
              "    <tr>\n",
              "      <th>timestamp</th>\n",
              "      <th></th>\n",
              "    </tr>\n",
              "  </thead>\n",
              "  <tbody>\n",
              "    <tr>\n",
              "      <th>2016-01-01</th>\n",
              "      <td>20006.78</td>\n",
              "    </tr>\n",
              "    <tr>\n",
              "      <th>2016-01-02</th>\n",
              "      <td>22859.70</td>\n",
              "    </tr>\n",
              "    <tr>\n",
              "      <th>2016-01-03</th>\n",
              "      <td>22864.91</td>\n",
              "    </tr>\n",
              "    <tr>\n",
              "      <th>2016-01-04</th>\n",
              "      <td>29752.72</td>\n",
              "    </tr>\n",
              "    <tr>\n",
              "      <th>2016-01-05</th>\n",
              "      <td>30777.40</td>\n",
              "    </tr>\n",
              "  </tbody>\n",
              "</table>\n",
              "</div>"
            ],
            "text/plain": [
              "            meter_reading\n",
              "timestamp                \n",
              "2016-01-01       20006.78\n",
              "2016-01-02       22859.70\n",
              "2016-01-03       22864.91\n",
              "2016-01-04       29752.72\n",
              "2016-01-05       30777.40"
            ]
          },
          "metadata": {
            "tags": []
          },
          "execution_count": 71
        }
      ]
    },
    {
      "cell_type": "code",
      "metadata": {
        "id": "XGyBgBHN-Ud4",
        "colab_type": "code",
        "outputId": "76fbe9b3-7656-4d35-ca50-8a9002544f7c",
        "colab": {
          "base_uri": "https://localhost:8080/",
          "height": 450
        }
      },
      "source": [
        "# or do a hack, by getting hourly mean and then times 24\n",
        "meter_df.resample('D').mean()*24"
      ],
      "execution_count": 0,
      "outputs": [
        {
          "output_type": "execute_result",
          "data": {
            "text/html": [
              "<div>\n",
              "<style scoped>\n",
              "    .dataframe tbody tr th:only-of-type {\n",
              "        vertical-align: middle;\n",
              "    }\n",
              "\n",
              "    .dataframe tbody tr th {\n",
              "        vertical-align: top;\n",
              "    }\n",
              "\n",
              "    .dataframe thead th {\n",
              "        text-align: right;\n",
              "    }\n",
              "</style>\n",
              "<table border=\"1\" class=\"dataframe\">\n",
              "  <thead>\n",
              "    <tr style=\"text-align: right;\">\n",
              "      <th></th>\n",
              "      <th>meter_reading</th>\n",
              "    </tr>\n",
              "    <tr>\n",
              "      <th>timestamp</th>\n",
              "      <th></th>\n",
              "    </tr>\n",
              "  </thead>\n",
              "  <tbody>\n",
              "    <tr>\n",
              "      <th>2016-01-01</th>\n",
              "      <td>22864.891429</td>\n",
              "    </tr>\n",
              "    <tr>\n",
              "      <th>2016-01-02</th>\n",
              "      <td>22859.700000</td>\n",
              "    </tr>\n",
              "    <tr>\n",
              "      <th>2016-01-03</th>\n",
              "      <td>22864.910000</td>\n",
              "    </tr>\n",
              "    <tr>\n",
              "      <th>2016-01-04</th>\n",
              "      <td>29752.720000</td>\n",
              "    </tr>\n",
              "    <tr>\n",
              "      <th>2016-01-05</th>\n",
              "      <td>30777.400000</td>\n",
              "    </tr>\n",
              "    <tr>\n",
              "      <th>...</th>\n",
              "      <td>...</td>\n",
              "    </tr>\n",
              "    <tr>\n",
              "      <th>2016-12-27</th>\n",
              "      <td>29904.780000</td>\n",
              "    </tr>\n",
              "    <tr>\n",
              "      <th>2016-12-28</th>\n",
              "      <td>31129.910000</td>\n",
              "    </tr>\n",
              "    <tr>\n",
              "      <th>2016-12-29</th>\n",
              "      <td>30148.420000</td>\n",
              "    </tr>\n",
              "    <tr>\n",
              "      <th>2016-12-30</th>\n",
              "      <td>30397.250000</td>\n",
              "    </tr>\n",
              "    <tr>\n",
              "      <th>2016-12-31</th>\n",
              "      <td>29792.450000</td>\n",
              "    </tr>\n",
              "  </tbody>\n",
              "</table>\n",
              "<p>366 rows × 1 columns</p>\n",
              "</div>"
            ],
            "text/plain": [
              "            meter_reading\n",
              "timestamp                \n",
              "2016-01-01   22864.891429\n",
              "2016-01-02   22859.700000\n",
              "2016-01-03   22864.910000\n",
              "2016-01-04   29752.720000\n",
              "2016-01-05   30777.400000\n",
              "...                   ...\n",
              "2016-12-27   29904.780000\n",
              "2016-12-28   31129.910000\n",
              "2016-12-29   30148.420000\n",
              "2016-12-30   30397.250000\n",
              "2016-12-31   29792.450000\n",
              "\n",
              "[366 rows x 1 columns]"
            ]
          },
          "metadata": {
            "tags": []
          },
          "execution_count": 72
        }
      ]
    },
    {
      "cell_type": "code",
      "metadata": {
        "id": "KH1gvy6y-gqI",
        "colab_type": "code",
        "outputId": "f6cd4110-8b71-4402-e59f-4cdf26784ff0",
        "colab": {
          "base_uri": "https://localhost:8080/",
          "height": 450
        }
      },
      "source": [
        "# or using mean*24 with at most 2 missing values\n",
        "# if any day has 2 missing vlaues or more, return empty\n",
        "# note here we used something called apply and an lambda function\n",
        "# lambda function is REALLY handy in Python to do complex logics\n",
        "meter_df.resample('D').apply(lambda x: x.mean() if x.isnull().sum() <= 2 else np.nan)*24"
      ],
      "execution_count": 0,
      "outputs": [
        {
          "output_type": "execute_result",
          "data": {
            "text/html": [
              "<div>\n",
              "<style scoped>\n",
              "    .dataframe tbody tr th:only-of-type {\n",
              "        vertical-align: middle;\n",
              "    }\n",
              "\n",
              "    .dataframe tbody tr th {\n",
              "        vertical-align: top;\n",
              "    }\n",
              "\n",
              "    .dataframe thead th {\n",
              "        text-align: right;\n",
              "    }\n",
              "</style>\n",
              "<table border=\"1\" class=\"dataframe\">\n",
              "  <thead>\n",
              "    <tr style=\"text-align: right;\">\n",
              "      <th></th>\n",
              "      <th>meter_reading</th>\n",
              "    </tr>\n",
              "    <tr>\n",
              "      <th>timestamp</th>\n",
              "      <th></th>\n",
              "    </tr>\n",
              "  </thead>\n",
              "  <tbody>\n",
              "    <tr>\n",
              "      <th>2016-01-01</th>\n",
              "      <td>NaN</td>\n",
              "    </tr>\n",
              "    <tr>\n",
              "      <th>2016-01-02</th>\n",
              "      <td>22859.70</td>\n",
              "    </tr>\n",
              "    <tr>\n",
              "      <th>2016-01-03</th>\n",
              "      <td>22864.91</td>\n",
              "    </tr>\n",
              "    <tr>\n",
              "      <th>2016-01-04</th>\n",
              "      <td>29752.72</td>\n",
              "    </tr>\n",
              "    <tr>\n",
              "      <th>2016-01-05</th>\n",
              "      <td>30777.40</td>\n",
              "    </tr>\n",
              "    <tr>\n",
              "      <th>...</th>\n",
              "      <td>...</td>\n",
              "    </tr>\n",
              "    <tr>\n",
              "      <th>2016-12-27</th>\n",
              "      <td>29904.78</td>\n",
              "    </tr>\n",
              "    <tr>\n",
              "      <th>2016-12-28</th>\n",
              "      <td>31129.91</td>\n",
              "    </tr>\n",
              "    <tr>\n",
              "      <th>2016-12-29</th>\n",
              "      <td>30148.42</td>\n",
              "    </tr>\n",
              "    <tr>\n",
              "      <th>2016-12-30</th>\n",
              "      <td>30397.25</td>\n",
              "    </tr>\n",
              "    <tr>\n",
              "      <th>2016-12-31</th>\n",
              "      <td>29792.45</td>\n",
              "    </tr>\n",
              "  </tbody>\n",
              "</table>\n",
              "<p>366 rows × 1 columns</p>\n",
              "</div>"
            ],
            "text/plain": [
              "            meter_reading\n",
              "timestamp                \n",
              "2016-01-01            NaN\n",
              "2016-01-02       22859.70\n",
              "2016-01-03       22864.91\n",
              "2016-01-04       29752.72\n",
              "2016-01-05       30777.40\n",
              "...                   ...\n",
              "2016-12-27       29904.78\n",
              "2016-12-28       31129.91\n",
              "2016-12-29       30148.42\n",
              "2016-12-30       30397.25\n",
              "2016-12-31       29792.45\n",
              "\n",
              "[366 rows x 1 columns]"
            ]
          },
          "metadata": {
            "tags": []
          },
          "execution_count": 73
        }
      ]
    },
    {
      "cell_type": "markdown",
      "metadata": {
        "id": "AAAc35595ny7",
        "colab_type": "text"
      },
      "source": [
        "For more pandas time series magic, visit their detailed tutorial https://pandas.pydata.org/pandas-docs/stable/user_guide/timeseries.html\n",
        "\n",
        "You can do a lot of complex things in a few simple lines of code. Such as converting timezones, replacing missing data, finding data gaps, grouping by week/day-type, etc."
      ]
    },
    {
      "cell_type": "code",
      "metadata": {
        "id": "pCY9PlgF5hgo",
        "colab_type": "code",
        "colab": {}
      },
      "source": [
        ""
      ],
      "execution_count": 0,
      "outputs": []
    }
  ]
}